{
  "nbformat": 4,
  "nbformat_minor": 0,
  "metadata": {
    "colab": {
      "name": "Assignmnet 2 - Day 4.ipynb",
      "provenance": [],
      "authorship_tag": "ABX9TyNasqPUaHz3oPDzQ2S469W2",
      "include_colab_link": true
    },
    "kernelspec": {
      "name": "python3",
      "display_name": "Python 3"
    }
  },
  "cells": [
    {
      "cell_type": "markdown",
      "metadata": {
        "id": "view-in-github",
        "colab_type": "text"
      },
      "source": [
        "<a href=\"https://colab.research.google.com/github/NightFury5535/LetsUpgrade-AI-ML/blob/master/Assignmnet_2_Day_4.ipynb\" target=\"_parent\"><img src=\"https://colab.research.google.com/assets/colab-badge.svg\" alt=\"Open In Colab\"/></a>"
      ]
    },
    {
      "cell_type": "markdown",
      "metadata": {
        "id": "3vjSIFms49Sc",
        "colab_type": "text"
      },
      "source": [
        "### Assignmnet 2 - Day 4"
      ]
    },
    {
      "cell_type": "markdown",
      "metadata": {
        "id": "sHbtci-N5Oo9",
        "colab_type": "text"
      },
      "source": [
        "1.Research on whether addition, subtraction, multiplication, division, floor division and modulo operations be performed on complex numbers. Based on your study, implement a Python program to demonstrate these operations."
      ]
    },
    {
      "cell_type": "code",
      "metadata": {
        "id": "cSJLGgUp44u8",
        "colab_type": "code",
        "colab": {
          "base_uri": "https://localhost:8080/",
          "height": 34
        },
        "outputId": "4355bc67-1f0d-4cdd-c452-ece29286226a"
      },
      "source": [
        "def SubComplex(i1,i2):\n",
        "    return i1-i2\n",
        "\n",
        "i1 = complex(5, 3)\n",
        "i2 = complex(4, 6)\n",
        "print(\"The subtraction of two complex number is\", SubComplex(i1, i2))"
      ],
      "execution_count": null,
      "outputs": [
        {
          "output_type": "stream",
          "text": [
            "The subtraction of two complex number is (1-3j)\n"
          ],
          "name": "stdout"
        }
      ]
    },
    {
      "cell_type": "code",
      "metadata": {
        "id": "82PvC2hl5ZcV",
        "colab_type": "code",
        "colab": {
          "base_uri": "https://localhost:8080/",
          "height": 34
        },
        "outputId": "f633f6e7-8d3b-496d-c800-2aa54cea582a"
      },
      "source": [
        "def AddComplex(i1,i2):\n",
        "    return i1+i2\n",
        "i1 = complex(5, 3)\n",
        "i2 = complex(4, 6)\n",
        "print(\"The Additions of two complex number is\", AddComplex(i1, i2))"
      ],
      "execution_count": null,
      "outputs": [
        {
          "output_type": "stream",
          "text": [
            "The Additions of two complex number is (9+9j)\n"
          ],
          "name": "stdout"
        }
      ]
    },
    {
      "cell_type": "code",
      "metadata": {
        "id": "cVwWaeqS5lct",
        "colab_type": "code",
        "colab": {
          "base_uri": "https://localhost:8080/",
          "height": 34
        },
        "outputId": "bba3f1e7-d5a4-4d55-9d6f-a0e379ce36c3"
      },
      "source": [
        "def MultiComplex(i1,i2):\n",
        "    return i1*i2\n",
        "i1 = complex(5, 3)\n",
        "i2 = complex(4, 6)\n",
        "print(\"The Multiplicaion of two complex number is\", MultiComplex(i1, i2))"
      ],
      "execution_count": null,
      "outputs": [
        {
          "output_type": "stream",
          "text": [
            "The Multiplicaion of two complex number is (2+42j)\n"
          ],
          "name": "stdout"
        }
      ]
    },
    {
      "cell_type": "markdown",
      "metadata": {
        "id": "xbFj2MC6bpYP",
        "colab_type": "text"
      },
      "source": [
        "***Floor division and modulus function***"
      ]
    },
    {
      "cell_type": "markdown",
      "metadata": {
        "id": "LT6vSncpb1MQ",
        "colab_type": "text"
      },
      "source": [
        "Floor and modulus operators (// and % respectively) are not allowed to be used on complex number in Python 3.x. However, these operations are defined for complex numbers in Python 2.7.x"
      ]
    },
    {
      "cell_type": "markdown",
      "metadata": {
        "id": "D9FDMF7McINY",
        "colab_type": "text"
      },
      "source": [
        "2. Research on range() functions and its parameters. Create a markdown cell and write in your own words (no copy-paste from google please) what you understand about it. Implement a small program of your choice on the same."
      ]
    },
    {
      "cell_type": "markdown",
      "metadata": {
        "id": "QcUTHmFgcSGz",
        "colab_type": "text"
      },
      "source": [
        "Python range() used to generate the data set between start and stop value. Using for() loop we can itertae the squence of numbers prouced by range()."
      ]
    },
    {
      "cell_type": "code",
      "metadata": {
        "id": "_4RjAaPs5o7n",
        "colab_type": "code",
        "colab": {
          "base_uri": "https://localhost:8080/",
          "height": 67
        },
        "outputId": "44cd8caa-b582-47a5-e81e-0920ebbd1cd1"
      },
      "source": [
        "print(\"Python range() example\")\n",
        "print(\"Get numbers from range 0 to 6\")\n",
        "for i in range(6):\n",
        "    print(i, end=', ')"
      ],
      "execution_count": 1,
      "outputs": [
        {
          "output_type": "stream",
          "text": [
            "Python range() example\n",
            "Get numbers from range 0 to 6\n",
            "0, 1, 2, 3, 4, 5, "
          ],
          "name": "stdout"
        }
      ]
    },
    {
      "cell_type": "markdown",
      "metadata": {
        "id": "wAgLpJJnckgj",
        "colab_type": "text"
      },
      "source": [
        "We got integers from 0 to 5 because range() function doesn’t include the last (stop) number in the result.\n",
        "\n",
        "Syntax: range(start,stop, step)\n",
        "\n",
        "Parameters:\n",
        "\n",
        "start: (Optional) : An interger number which specify where to start. Default value is 0\n",
        "\n",
        "stop: Required : An interger number which specify where to stop.\n",
        "\n",
        "Step: An interger number which specify how much to increment the values. Default value is 1"
      ]
    },
    {
      "cell_type": "code",
      "metadata": {
        "id": "2USgYmHrcaY9",
        "colab_type": "code",
        "colab": {
          "base_uri": "https://localhost:8080/",
          "height": 101
        },
        "outputId": "84d099ed-e309-4567-f1cb-389305af92d7"
      },
      "source": [
        "x = range (1, 10, 2)\n",
        "for i in x:\n",
        "    print(i)"
      ],
      "execution_count": 2,
      "outputs": [
        {
          "output_type": "stream",
          "text": [
            "1\n",
            "3\n",
            "5\n",
            "7\n",
            "9\n"
          ],
          "name": "stdout"
        }
      ]
    },
    {
      "cell_type": "markdown",
      "metadata": {
        "id": "vn1OHjD_eIra",
        "colab_type": "text"
      },
      "source": [
        "3. Consider two numbers. Perform their subtraction and if the result of subtraction is greater than 25, print their multiplication result else print their division result."
      ]
    },
    {
      "cell_type": "code",
      "metadata": {
        "id": "QuoXDAdTcuHM",
        "colab_type": "code",
        "colab": {
          "base_uri": "https://localhost:8080/",
          "height": 84
        },
        "outputId": "0ab7ba94-f0c9-434e-e0f8-91c299423dae"
      },
      "source": [
        "num1=int(input(\"Please enter the number 1: \"))\n",
        "num2=int(input(\"Please enter the number 2: \"))\n",
        "Sub = num1-num2\n",
        "print(\"The subtraction of two  number is\", Sub)\n",
        "if Sub>=25:\n",
        "    add = num1*num2\n",
        "    print(\"The multiplication is\", add)\n",
        "else:\n",
        "    div = num1/num2\n",
        "    print(\"The division is\", div)"
      ],
      "execution_count": 4,
      "outputs": [
        {
          "output_type": "stream",
          "text": [
            "Please enter the number 1: 15\n",
            "Please enter the number 2: 16\n",
            "The subtraction of two  number is -1\n",
            "The division is 0.9375\n"
          ],
          "name": "stdout"
        }
      ]
    },
    {
      "cell_type": "markdown",
      "metadata": {
        "id": "b35ay4g4nNKq",
        "colab_type": "text"
      },
      "source": [
        "4. Consider a list of 10 elements of integer values. If the number in the list is divisible by 2, print the result as \"square of that number minus 2\"."
      ]
    },
    {
      "cell_type": "code",
      "metadata": {
        "id": "VSUZhzyonQ93",
        "colab_type": "code",
        "colab": {
          "base_uri": "https://localhost:8080/",
          "height": 151
        },
        "outputId": "96bf0934-cb0a-4498-aa5d-890515045300"
      },
      "source": [
        "import math\n",
        "\n",
        "x = [2,1,4,9,20,8,11,22,18,15]\n",
        "y=[]\n",
        "z=[]\n",
        "for i in x:\n",
        "    if(i%2)==0:\n",
        "        y.append(i)\n",
        "        result = math.sqrt(i)-2\n",
        "        print(\"The results is\", result)\n",
        "    else:\n",
        "        z.append(i)\n",
        "    \n",
        "print(y)\n",
        "print(z)"
      ],
      "execution_count": 5,
      "outputs": [
        {
          "output_type": "stream",
          "text": [
            "The results is -0.5857864376269049\n",
            "The results is 0.0\n",
            "The results is 2.4721359549995796\n",
            "The results is 0.8284271247461903\n",
            "The results is 2.6904157598234297\n",
            "The results is 2.2426406871192848\n",
            "[2, 4, 20, 8, 22, 18]\n",
            "[1, 9, 11, 15]\n"
          ],
          "name": "stdout"
        }
      ]
    },
    {
      "cell_type": "markdown",
      "metadata": {
        "id": "4EaV101TnbEY",
        "colab_type": "text"
      },
      "source": [
        "5. Consider a list of 10 elements. Print all the elements in the list which are greater than 7 when that number is divided 2."
      ]
    },
    {
      "cell_type": "code",
      "metadata": {
        "id": "cL5gmLYJnUgf",
        "colab_type": "code",
        "colab": {
          "base_uri": "https://localhost:8080/",
          "height": 34
        },
        "outputId": "fc363c50-d34c-405d-b447-4c9ef8ccf8bb"
      },
      "source": [
        "\n",
        "x = [2,1,4,9,20,8,11,22,18,15]\n",
        "y=[]\n",
        "for i in x:\n",
        "    if i%2==0:\n",
        "        if (i/2)>7:\n",
        "            y.append(i)\n",
        "print(y)"
      ],
      "execution_count": 6,
      "outputs": [
        {
          "output_type": "stream",
          "text": [
            "[20, 22, 18]\n"
          ],
          "name": "stdout"
        }
      ]
    }
  ]
}