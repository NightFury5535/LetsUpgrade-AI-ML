{
  "nbformat": 4,
  "nbformat_minor": 0,
  "metadata": {
    "colab": {
      "name": "Assignmnet 4 - Day 6.ipynb",
      "provenance": [],
      "authorship_tag": "ABX9TyPCCan4uekBBL3wgw4PbvXb",
      "include_colab_link": true
    },
    "kernelspec": {
      "name": "python3",
      "display_name": "Python 3"
    }
  },
  "cells": [
    {
      "cell_type": "markdown",
      "metadata": {
        "id": "view-in-github",
        "colab_type": "text"
      },
      "source": [
        "<a href=\"https://colab.research.google.com/github/NightFury5535/LetsUpgrade-AI-ML/blob/master/Assignmnet_4_Day_6.ipynb\" target=\"_parent\"><img src=\"https://colab.research.google.com/assets/colab-badge.svg\" alt=\"Open In Colab\"/></a>"
      ]
    },
    {
      "cell_type": "markdown",
      "metadata": {
        "id": "1OEKnyvCtmZz",
        "colab_type": "text"
      },
      "source": [
        "### Assignmnet 4 - Day 6"
      ]
    },
    {
      "cell_type": "markdown",
      "metadata": {
        "id": "5cRAG8DGt0CK",
        "colab_type": "text"
      },
      "source": [
        "1. Assuming that we have some email addresses in the \"username@companyname.com\" format, please write program to print the company name of a given email address. Both user names and company names are composed of letters only."
      ]
    },
    {
      "cell_type": "code",
      "metadata": {
        "id": "i8mHubjltfF_",
        "colab_type": "code",
        "colab": {
          "base_uri": "https://localhost:8080/",
          "height": 35
        },
        "outputId": "c4e0eefd-2081-4f7b-9b2f-cd1475e4e615"
      },
      "source": [
        "line = \"balaji@amdocs.com\"\n",
        "str = line.split(\".\")[0]\n",
        "str.split(\"@\")[1]"
      ],
      "execution_count": 1,
      "outputs": [
        {
          "output_type": "execute_result",
          "data": {
            "application/vnd.google.colaboratory.intrinsic+json": {
              "type": "string"
            },
            "text/plain": [
              "'amdocs'"
            ]
          },
          "metadata": {
            "tags": []
          },
          "execution_count": 1
        }
      ]
    },
    {
      "cell_type": "markdown",
      "metadata": {
        "id": "scHpf3KcuBa8",
        "colab_type": "text"
      },
      "source": [
        "2. Write a program that accepts a comma-separated sequence of words as input and prints the words in a comma separated sequence after sorting them alphabetically."
      ]
    },
    {
      "cell_type": "code",
      "metadata": {
        "id": "1LXD5W3yt7hg",
        "colab_type": "code",
        "colab": {
          "base_uri": "https://localhost:8080/",
          "height": 50
        },
        "outputId": "22d1264e-4c15-4c64-b616-6a65582c9716"
      },
      "source": [
        "items = input(\"Input comma separated sequence of words\")\n",
        "words = [word for word in items.split(\",\")]\n",
        "print(\",\".join(sorted(list(set(words)))))"
      ],
      "execution_count": 2,
      "outputs": [
        {
          "output_type": "stream",
          "text": [
            "Input comma separated sequence of wordstest,hello,world,hi\n",
            "hello,hi,test,world\n"
          ],
          "name": "stdout"
        }
      ]
    },
    {
      "cell_type": "markdown",
      "metadata": {
        "id": "ViivZeJuuZU-",
        "colab_type": "text"
      },
      "source": [
        "3. Create your own Jupyter Notebook for Sets. Reference link: https://www.w3schools.com/python/python_sets.asp"
      ]
    },
    {
      "cell_type": "markdown",
      "metadata": {
        "id": "7ZKCujCaue5z",
        "colab_type": "text"
      },
      "source": [
        "## Set\n",
        "\n",
        "It is a collection which is unordered and unindexed. It does not allow repeating elements. It is enclosed with in {}."
      ]
    },
    {
      "cell_type": "markdown",
      "metadata": {
        "id": "u-K7XbEZunVG",
        "colab_type": "text"
      },
      "source": [
        "Functions:"
      ]
    },
    {
      "cell_type": "markdown",
      "metadata": {
        "id": "GXWzQTPjuvBp",
        "colab_type": "text"
      },
      "source": [
        "add(): It is used to add an element to a set. \n",
        "\n",
        "clear(): It is used to clear the entier set. \n",
        "\n",
        "copy(): It is used to copy the existing set to another variable. An changes to the original dictionary will not affect the copied set. \n",
        "\n",
        "difference(): It is used to get a set containing only the elements in the first set which are not in the second set. \n",
        "\n",
        "difference_update(): It is used to update the first set with the difference of two sets. \n",
        "\n",
        "discard(): It is used to remove the specified element from the set.\n",
        "\n",
        "intersection(): It is used to get the similar elements from 2 or more sets. \n",
        "\n",
        "intersection_update(): It is used to update the first set with result of intersection function. \n",
        "\n",
        "isdisjoint(): It is used to check two set are disjoint sets. \n",
        "\n",
        "issubset(): It is used to check one set is sub set of another set. \n",
        "\n",
        "issuperset(): It is used to check one set is super set of another set. \n",
        "\n",
        "pop(): It is used to remove a randow element from the set. \n",
        "\n",
        "remove(): It is used to remove a specific element from the set. If the element is not present it will through an error. \n",
        "\n",
        "symmetric_difference(): It is used to get a set containing elements from both the set which are not present in both sets. \n",
        "\n",
        "symmetric_difference_update(): It is used to update the original set with the result of symmetric_difference. \n",
        "\n",
        "union(): It is used to combine two or more sets without repeating of elements. \n",
        "\n",
        "update(): It is used to update a set at the same time it perform the union function also."
      ]
    },
    {
      "cell_type": "code",
      "metadata": {
        "id": "RwXtKGusuHFW",
        "colab_type": "code",
        "colab": {
          "base_uri": "https://localhost:8080/",
          "height": 184
        },
        "outputId": "ef2399a1-fd2a-454f-a16f-f1b9b2d52894"
      },
      "source": [
        "# Set add() function:\n",
        "a = {1,2,3,4,5}\n",
        "b = {3,4,5,6,7,8}\n",
        "\n",
        "print(\"Printing set a:\")\n",
        "print(a)\n",
        "print(\"\\n\")\n",
        "\n",
        "print(\"Printing set b:\")\n",
        "print(b)\n",
        "print(\"\\n\")\n",
        "\n",
        "print(\"Printing the set a with element 6 added to it:\")\n",
        "a.add(6)\n",
        "print(a)"
      ],
      "execution_count": 3,
      "outputs": [
        {
          "output_type": "stream",
          "text": [
            "Printing set a:\n",
            "{1, 2, 3, 4, 5}\n",
            "\n",
            "\n",
            "Printing set b:\n",
            "{3, 4, 5, 6, 7, 8}\n",
            "\n",
            "\n",
            "Printing the set a with element 6 added to it:\n",
            "{1, 2, 3, 4, 5, 6}\n"
          ],
          "name": "stdout"
        }
      ]
    },
    {
      "cell_type": "code",
      "metadata": {
        "id": "qm7Ud1ANvFz4",
        "colab_type": "code",
        "colab": {
          "base_uri": "https://localhost:8080/",
          "height": 117
        },
        "outputId": "c4923650-03b7-438d-d907-1a54bd20fbfc"
      },
      "source": [
        "# Set copy() and clear() function:\n",
        "c = a.copy()\n",
        "print(\"printing set c which is copied from set a:\")\n",
        "print(c)\n",
        "print(\"\\n\")\n",
        "\n",
        "c.clear()\n",
        "print(\"Printing set c after it is cleared:\")\n",
        "print(c)"
      ],
      "execution_count": 4,
      "outputs": [
        {
          "output_type": "stream",
          "text": [
            "printing set c which is copied from set a:\n",
            "{1, 2, 3, 4, 5, 6}\n",
            "\n",
            "\n",
            "Printing set c after it is cleared:\n",
            "set()\n"
          ],
          "name": "stdout"
        }
      ]
    },
    {
      "cell_type": "code",
      "metadata": {
        "id": "M14ioDQivIqm",
        "colab_type": "code",
        "colab": {
          "base_uri": "https://localhost:8080/",
          "height": 50
        },
        "outputId": "af6e6019-6d3b-4247-eef3-d77a1570c5af"
      },
      "source": [
        "# Set difference() function:\n",
        "c = a.difference(b)\n",
        "print(\"Printing the set c which is result of difference function:\")\n",
        "print(c)"
      ],
      "execution_count": 5,
      "outputs": [
        {
          "output_type": "stream",
          "text": [
            "Printing the set c which is result of difference function:\n",
            "{1, 2}\n"
          ],
          "name": "stdout"
        }
      ]
    },
    {
      "cell_type": "code",
      "metadata": {
        "id": "AG_4ieakvK4e",
        "colab_type": "code",
        "colab": {
          "base_uri": "https://localhost:8080/",
          "height": 50
        },
        "outputId": "2264ea1e-7a72-4976-e73e-465e11740ae3"
      },
      "source": [
        "# Set difference_update() function:\n",
        "print(\"Printing set a the result of difference_update function:\")\n",
        "a.difference_update(b)\n",
        "print(a)"
      ],
      "execution_count": 6,
      "outputs": [
        {
          "output_type": "stream",
          "text": [
            "Printing set a the result of difference_update function:\n",
            "{1, 2}\n"
          ],
          "name": "stdout"
        }
      ]
    },
    {
      "cell_type": "code",
      "metadata": {
        "id": "kj6jzMeXvPnR",
        "colab_type": "code",
        "colab": {
          "base_uri": "https://localhost:8080/",
          "height": 50
        },
        "outputId": "6b9aaccc-2381-460f-acb1-f6d6dd1eca03"
      },
      "source": [
        "# Set discard() function:\n",
        "print(\"Printing set a after removing 2 using discard function:\")\n",
        "a.discard(2)\n",
        "print(a)"
      ],
      "execution_count": 7,
      "outputs": [
        {
          "output_type": "stream",
          "text": [
            "Printing set a after removing 2 using discard function:\n",
            "{1}\n"
          ],
          "name": "stdout"
        }
      ]
    },
    {
      "cell_type": "code",
      "metadata": {
        "id": "wg04fJJ8vSly",
        "colab_type": "code",
        "colab": {
          "base_uri": "https://localhost:8080/",
          "height": 50
        },
        "outputId": "f1bdfff3-6a5f-4cf1-ba4f-bdd557eb09eb"
      },
      "source": [
        "# Set intersection() function:\n",
        "a = {1,2,3,4,5}\n",
        "b = {3,4,5,6,7,8}\n",
        "\n",
        "c = a.intersection(b)\n",
        "print(\"Printing set c which is intersection of set a and b:\")\n",
        "print(c)"
      ],
      "execution_count": 8,
      "outputs": [
        {
          "output_type": "stream",
          "text": [
            "Printing set c which is intersection of set a and b:\n",
            "{3, 4, 5}\n"
          ],
          "name": "stdout"
        }
      ]
    },
    {
      "cell_type": "code",
      "metadata": {
        "id": "fGqomHwsvVGu",
        "colab_type": "code",
        "colab": {
          "base_uri": "https://localhost:8080/",
          "height": 50
        },
        "outputId": "f56dcb8e-ddcb-4286-cbcd-7a286ab3bdd9"
      },
      "source": [
        "# Set intersection_update() function:\n",
        "a.intersection_update(b)\n",
        "print(\"Printing set a which is result of intersection_update:\")\n",
        "print(a)"
      ],
      "execution_count": 9,
      "outputs": [
        {
          "output_type": "stream",
          "text": [
            "Printing set a which is result of intersection_update:\n",
            "{3, 4, 5}\n"
          ],
          "name": "stdout"
        }
      ]
    },
    {
      "cell_type": "code",
      "metadata": {
        "id": "BQRd4ZmDvXJu",
        "colab_type": "code",
        "colab": {
          "base_uri": "https://localhost:8080/",
          "height": 118
        },
        "outputId": "f3d90628-d367-4e9d-b2eb-09564ba92369"
      },
      "source": [
        "# Set isdisjoint() function:\n",
        "print(\"Printing the result of isdisjoint between a and b:\")\n",
        "print(a.isdisjoint(b))\n",
        "print(\"\\n\")\n",
        "\n",
        "a = {1,2}\n",
        "b = {3,4}\n",
        "print(\"Printing the result of isdisjoint between a and b with no common value:\")\n",
        "print(a.isdisjoint(b))"
      ],
      "execution_count": 10,
      "outputs": [
        {
          "output_type": "stream",
          "text": [
            "Printing the result of isdisjoint between a and b:\n",
            "False\n",
            "\n",
            "\n",
            "Printing the result of isdisjoint between a and b with no common value:\n",
            "True\n"
          ],
          "name": "stdout"
        }
      ]
    },
    {
      "cell_type": "code",
      "metadata": {
        "id": "OEQk3x7BvZlZ",
        "colab_type": "code",
        "colab": {
          "base_uri": "https://localhost:8080/",
          "height": 50
        },
        "outputId": "dabae8cc-c6e9-43a3-9de6-3616fd455cc3"
      },
      "source": [
        "# Set issubset() function:\n",
        "a = {1,2,3,4}\n",
        "b = {1,2,3,4,5,6,7}\n",
        "print(\"Printing the result a is subset of b:\")\n",
        "print(a.issubset(b))"
      ],
      "execution_count": 11,
      "outputs": [
        {
          "output_type": "stream",
          "text": [
            "Printing the result a is subset of b:\n",
            "True\n"
          ],
          "name": "stdout"
        }
      ]
    },
    {
      "cell_type": "code",
      "metadata": {
        "id": "gWWcBH24vbx-",
        "colab_type": "code",
        "colab": {
          "base_uri": "https://localhost:8080/",
          "height": 50
        },
        "outputId": "f8620c55-39ce-4d63-e507-e1d394f5eda4"
      },
      "source": [
        "# Set issuperset() function:\n",
        "a = {1,2,3,4}\n",
        "b = {1,2,3}\n",
        "print(\"Printing the result a is super set of b:\")\n",
        "print(a.issuperset(b))"
      ],
      "execution_count": 12,
      "outputs": [
        {
          "output_type": "stream",
          "text": [
            "Printing the result a is super set of b:\n",
            "True\n"
          ],
          "name": "stdout"
        }
      ]
    },
    {
      "cell_type": "code",
      "metadata": {
        "id": "8W7c0XPvveGT",
        "colab_type": "code",
        "colab": {
          "base_uri": "https://localhost:8080/",
          "height": 67
        },
        "outputId": "2a7d7f5e-8267-4a69-e164-a3a080583115"
      },
      "source": [
        "# Set pop() function:\n",
        "a = {1,2,3,4,6}\n",
        "print(\"Printing set a after pop method is used:\")\n",
        "output=a.pop()\n",
        "print(\"poped value: \", output)\n",
        "print(a)"
      ],
      "execution_count": 13,
      "outputs": [
        {
          "output_type": "stream",
          "text": [
            "Printing set a after pop method is used:\n",
            "poped value:  1\n",
            "{2, 3, 4, 6}\n"
          ],
          "name": "stdout"
        }
      ]
    },
    {
      "cell_type": "code",
      "metadata": {
        "id": "2DDPszspvhlP",
        "colab_type": "code",
        "colab": {
          "base_uri": "https://localhost:8080/",
          "height": 50
        },
        "outputId": "39e66661-e5f2-4cf7-8954-6863c0110286"
      },
      "source": [
        "# Set remove() function:\n",
        "a = {1,2,3,4}\n",
        "print(\"Printing set a after removing 4 from set a:\")\n",
        "a.remove(4)\n",
        "print(a)"
      ],
      "execution_count": 14,
      "outputs": [
        {
          "output_type": "stream",
          "text": [
            "Printing set a after removing 4 from set a:\n",
            "{1, 2, 3}\n"
          ],
          "name": "stdout"
        }
      ]
    },
    {
      "cell_type": "code",
      "metadata": {
        "id": "TWMxMxyYvjbO",
        "colab_type": "code",
        "colab": {
          "base_uri": "https://localhost:8080/",
          "height": 50
        },
        "outputId": "bd098392-bb18-4871-c2bc-739f8828afba"
      },
      "source": [
        "# Set symmetric_difference() function:\n",
        "a = {1,2,3,4}\n",
        "b = {1,2,3}\n",
        "print(\"Printing the elements which are not in both set a and b:\")\n",
        "print(a.symmetric_difference(b))"
      ],
      "execution_count": 15,
      "outputs": [
        {
          "output_type": "stream",
          "text": [
            "Printing the elements which are not in both set a and b:\n",
            "{4}\n"
          ],
          "name": "stdout"
        }
      ]
    },
    {
      "cell_type": "code",
      "metadata": {
        "id": "YigpNngfvl0a",
        "colab_type": "code",
        "colab": {
          "base_uri": "https://localhost:8080/",
          "height": 50
        },
        "outputId": "20ec51d9-3039-4bf5-89e2-3807c51e63bc"
      },
      "source": [
        "# Set symmetric_difference_update() function:\n",
        "a = {1,2,3,4}\n",
        "b = {1,2,3}\n",
        "a.symmetric_difference_update(b)\n",
        "print(\"Printing the result of symmetric_difference_update on set a:\")\n",
        "print(a)"
      ],
      "execution_count": 16,
      "outputs": [
        {
          "output_type": "stream",
          "text": [
            "Printing the result of symmetric_difference_update on set a:\n",
            "{4}\n"
          ],
          "name": "stdout"
        }
      ]
    },
    {
      "cell_type": "code",
      "metadata": {
        "id": "VbN_jclPvoYP",
        "colab_type": "code",
        "colab": {
          "base_uri": "https://localhost:8080/",
          "height": 50
        },
        "outputId": "e9b90944-0f68-4d73-f61e-9c5bc5467b3f"
      },
      "source": [
        "# Set union() function:\n",
        "a = {1,2,3,4}\n",
        "b = {1,2,3}\n",
        "print(\"Printing the result of union function:\")\n",
        "print(a.union(b))"
      ],
      "execution_count": 17,
      "outputs": [
        {
          "output_type": "stream",
          "text": [
            "Printing the result of union function:\n",
            "{1, 2, 3, 4}\n"
          ],
          "name": "stdout"
        }
      ]
    },
    {
      "cell_type": "code",
      "metadata": {
        "id": "bWDiW45OvrVG",
        "colab_type": "code",
        "colab": {
          "base_uri": "https://localhost:8080/",
          "height": 50
        },
        "outputId": "8aec6292-bf5a-44ce-a0c8-889e867c410f"
      },
      "source": [
        "# Set update() function:\n",
        "a = {1,2,3,4}\n",
        "b = {1,2,3,5}\n",
        "a.update(b)\n",
        "print(\"Printing the result of update function:\")\n",
        "print(a)"
      ],
      "execution_count": 18,
      "outputs": [
        {
          "output_type": "stream",
          "text": [
            "Printing the result of update function:\n",
            "{1, 2, 3, 4, 5}\n"
          ],
          "name": "stdout"
        }
      ]
    },
    {
      "cell_type": "markdown",
      "metadata": {
        "id": "0M3uDdMLvvz3",
        "colab_type": "text"
      },
      "source": [
        "4. Given a list of n-1 numbers ranging from 1 to n, your task is to find the missing number. There are no duplicates"
      ]
    },
    {
      "cell_type": "code",
      "metadata": {
        "id": "4h3Anw5Kvtmi",
        "colab_type": "code",
        "colab": {
          "base_uri": "https://localhost:8080/",
          "height": 34
        },
        "outputId": "65be7783-c9f8-412b-b394-0b90615f6a59"
      },
      "source": [
        "def find_missing(lst):\n",
        "    return sorted(set(range(lst[0], lst[-1]))-set(lst))\n",
        "lst = [1, 2, 4, 6, 7, 9, 10]\n",
        "print(\"Missing numbers in the list\",find_missing(lst))"
      ],
      "execution_count": 19,
      "outputs": [
        {
          "output_type": "stream",
          "text": [
            "Missing numbers in the list [3, 5, 8]\n"
          ],
          "name": "stdout"
        }
      ]
    },
    {
      "cell_type": "markdown",
      "metadata": {
        "id": "hmLIfQCrv8Fj",
        "colab_type": "text"
      },
      "source": [
        "5. With a given list L, write a program to print this list L after removing all duplicate values with original order reserved."
      ]
    },
    {
      "cell_type": "code",
      "metadata": {
        "id": "Qmw2B1prvz36",
        "colab_type": "code",
        "colab": {
          "base_uri": "https://localhost:8080/",
          "height": 50
        },
        "outputId": "35cc4b03-ed52-4215-c47f-98d2af66f7c5"
      },
      "source": [
        "my_lst = input(\"Enter the list with duplictae values: \")\n",
        "\n",
        "new_lst = [x for x in my_lst.split(\" \")]\n",
        "\n",
        "new_lst = list(dict.fromkeys(new_lst))\n",
        "\n",
        "print(\"Output without duplicate values:\", new_lst)"
      ],
      "execution_count": 20,
      "outputs": [
        {
          "output_type": "stream",
          "text": [
            "Enter the list with duplictae values: 12 24 50 12\n",
            "Output without duplicate values: ['12', '24', '50']\n"
          ],
          "name": "stdout"
        }
      ]
    }
  ]
}