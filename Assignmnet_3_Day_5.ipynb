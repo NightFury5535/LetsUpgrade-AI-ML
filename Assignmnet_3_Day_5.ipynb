{
  "nbformat": 4,
  "nbformat_minor": 0,
  "metadata": {
    "colab": {
      "name": "Assignmnet 3 - Day 5.ipynb",
      "provenance": [],
      "collapsed_sections": [],
      "authorship_tag": "ABX9TyM/hvaIXX94421w1Z5SMEF3",
      "include_colab_link": true
    },
    "kernelspec": {
      "name": "python3",
      "display_name": "Python 3"
    }
  },
  "cells": [
    {
      "cell_type": "markdown",
      "metadata": {
        "id": "view-in-github",
        "colab_type": "text"
      },
      "source": [
        "<a href=\"https://colab.research.google.com/github/NightFury5535/LetsUpgrade-AI-ML/blob/master/Assignmnet_3_Day_5.ipynb\" target=\"_parent\"><img src=\"https://colab.research.google.com/assets/colab-badge.svg\" alt=\"Open In Colab\"/></a>"
      ]
    },
    {
      "cell_type": "markdown",
      "metadata": {
        "id": "1HTyXdvEpufK",
        "colab_type": "text"
      },
      "source": [
        "### Assignmnet 3 - Day 5"
      ]
    },
    {
      "cell_type": "markdown",
      "metadata": {
        "id": "Htm721fbp2UC",
        "colab_type": "text"
      },
      "source": [
        "1. Write a Python program to find the first 20 non-even prime natural numbers."
      ]
    },
    {
      "cell_type": "code",
      "metadata": {
        "id": "vGM3XYVQpGCB",
        "colab_type": "code",
        "colab": {
          "base_uri": "https://localhost:8080/",
          "height": 368
        },
        "outputId": "434b3cef-e876-4ec6-b027-6c82d34a0756"
      },
      "source": [
        "lower = 1\n",
        "upper = 75\n",
        "\n",
        "print(\"Prime numbers between\", lower, \"and\", upper, \"are:\")\n",
        "\n",
        "for num in range(lower, upper + 1):\n",
        "   # all prime numbers are greater than 1\n",
        "   if num > 2:\n",
        "       for i in range(2, num):\n",
        "           if (num % i) == 0:\n",
        "               break\n",
        "       else:\n",
        "           print(num)"
      ],
      "execution_count": 3,
      "outputs": [
        {
          "output_type": "stream",
          "text": [
            "Prime numbers between 1 and 75 are:\n",
            "3\n",
            "5\n",
            "7\n",
            "11\n",
            "13\n",
            "17\n",
            "19\n",
            "23\n",
            "29\n",
            "31\n",
            "37\n",
            "41\n",
            "43\n",
            "47\n",
            "53\n",
            "59\n",
            "61\n",
            "67\n",
            "71\n",
            "73\n"
          ],
          "name": "stdout"
        }
      ]
    },
    {
      "cell_type": "markdown",
      "metadata": {
        "id": "heYN2mqdqY1t",
        "colab_type": "text"
      },
      "source": [
        "2. Write a Python program to implement 15 functions of string."
      ]
    },
    {
      "cell_type": "code",
      "metadata": {
        "id": "GXvoG9aFqAsv",
        "colab_type": "code",
        "colab": {
          "base_uri": "https://localhost:8080/",
          "height": 35
        },
        "outputId": "085ff3da-2cbe-4346-db98-e946ab270d9f"
      },
      "source": [
        "#1.lower()\n",
        "\n",
        "string = \"i love python coding\"\n",
        "string.lower()"
      ],
      "execution_count": 4,
      "outputs": [
        {
          "output_type": "execute_result",
          "data": {
            "application/vnd.google.colaboratory.intrinsic+json": {
              "type": "string"
            },
            "text/plain": [
              "'i love python coding'"
            ]
          },
          "metadata": {
            "tags": []
          },
          "execution_count": 4
        }
      ]
    },
    {
      "cell_type": "code",
      "metadata": {
        "id": "6ib75Q1vqfa6",
        "colab_type": "code",
        "colab": {
          "base_uri": "https://localhost:8080/",
          "height": 35
        },
        "outputId": "79ff8766-e46d-4c5f-ac11-2b40730f20a6"
      },
      "source": [
        "\n",
        "#2.capitalize()\n",
        "\n",
        "string.capitalize()"
      ],
      "execution_count": 5,
      "outputs": [
        {
          "output_type": "execute_result",
          "data": {
            "application/vnd.google.colaboratory.intrinsic+json": {
              "type": "string"
            },
            "text/plain": [
              "'I love python coding'"
            ]
          },
          "metadata": {
            "tags": []
          },
          "execution_count": 5
        }
      ]
    },
    {
      "cell_type": "code",
      "metadata": {
        "id": "cXVYKoJ9qnm2",
        "colab_type": "code",
        "colab": {
          "base_uri": "https://localhost:8080/",
          "height": 35
        },
        "outputId": "21975dc2-256b-432c-aa03-b1d26171458c"
      },
      "source": [
        "#3.center(10)\n",
        "str = \"Balaji\"\n",
        "str.center(10)"
      ],
      "execution_count": 6,
      "outputs": [
        {
          "output_type": "execute_result",
          "data": {
            "application/vnd.google.colaboratory.intrinsic+json": {
              "type": "string"
            },
            "text/plain": [
              "'  Balaji  '"
            ]
          },
          "metadata": {
            "tags": []
          },
          "execution_count": 6
        }
      ]
    },
    {
      "cell_type": "code",
      "metadata": {
        "id": "z5WIANwRqs7q",
        "colab_type": "code",
        "colab": {
          "base_uri": "https://localhost:8080/",
          "height": 35
        },
        "outputId": "2de8a1bb-320c-42d3-d227-cf09a09b1aae"
      },
      "source": [
        "\n",
        "#4.upper()\n",
        "string.upper()"
      ],
      "execution_count": 7,
      "outputs": [
        {
          "output_type": "execute_result",
          "data": {
            "application/vnd.google.colaboratory.intrinsic+json": {
              "type": "string"
            },
            "text/plain": [
              "'I LOVE PYTHON CODING'"
            ]
          },
          "metadata": {
            "tags": []
          },
          "execution_count": 7
        }
      ]
    },
    {
      "cell_type": "code",
      "metadata": {
        "id": "M-heo4KPqvYG",
        "colab_type": "code",
        "colab": {
          "base_uri": "https://localhost:8080/",
          "height": 33
        },
        "outputId": "4e6c62de-1c15-4a6c-95d8-93c2e2f695fe"
      },
      "source": [
        "#5.format()\n",
        "\n",
        "txt = \"For only {price:.2f} dollars!\"\n",
        "print(txt.format(price = 49))"
      ],
      "execution_count": 8,
      "outputs": [
        {
          "output_type": "stream",
          "text": [
            "For only 49.00 dollars!\n"
          ],
          "name": "stdout"
        }
      ]
    },
    {
      "cell_type": "code",
      "metadata": {
        "id": "P_jaQHhJq0on",
        "colab_type": "code",
        "colab": {
          "base_uri": "https://localhost:8080/",
          "height": 33
        },
        "outputId": "c55cbbce-774c-4606-e4fb-3529b781fd72"
      },
      "source": [
        "\n",
        "txt = 'Hello, i love python coding!'\n",
        "x = txt.endswith(\"!\")\n",
        "print(x)"
      ],
      "execution_count": 9,
      "outputs": [
        {
          "output_type": "stream",
          "text": [
            "True\n"
          ],
          "name": "stdout"
        }
      ]
    },
    {
      "cell_type": "code",
      "metadata": {
        "id": "qDVcoAy5q9bv",
        "colab_type": "code",
        "colab": {
          "base_uri": "https://localhost:8080/",
          "height": 33
        },
        "outputId": "35c8cf79-bb4b-4da9-c829-5a3b02f7bb5d"
      },
      "source": [
        "x = txt.endswith(\".\")\n",
        "print(x)"
      ],
      "execution_count": 10,
      "outputs": [
        {
          "output_type": "stream",
          "text": [
            "False\n"
          ],
          "name": "stdout"
        }
      ]
    },
    {
      "cell_type": "code",
      "metadata": {
        "id": "M_wVJiTvrBnz",
        "colab_type": "code",
        "colab": {
          "base_uri": "https://localhost:8080/",
          "height": 33
        },
        "outputId": "b38abd5c-989b-4612-f6e3-cfc352042186"
      },
      "source": [
        "#7.find()\n",
        "\n",
        "txt = \"Hello, welcome to my world.\"\n",
        "x=txt.find(\"welcome\")\n",
        "print(x)"
      ],
      "execution_count": 11,
      "outputs": [
        {
          "output_type": "stream",
          "text": [
            "7\n"
          ],
          "name": "stdout"
        }
      ]
    },
    {
      "cell_type": "code",
      "metadata": {
        "id": "XGBgojK9rE6D",
        "colab_type": "code",
        "colab": {
          "base_uri": "https://localhost:8080/",
          "height": 33
        },
        "outputId": "cb18dddf-93d2-4290-9906-2f4ac01bb63e"
      },
      "source": [
        "#8.isalnum()\n",
        "\n",
        "txt = \"World12\"\n",
        "\n",
        "x = txt.isalnum()\n",
        "\n",
        "print(x)"
      ],
      "execution_count": 12,
      "outputs": [
        {
          "output_type": "stream",
          "text": [
            "True\n"
          ],
          "name": "stdout"
        }
      ]
    },
    {
      "cell_type": "code",
      "metadata": {
        "id": "eo5XtqbprHvz",
        "colab_type": "code",
        "colab": {
          "base_uri": "https://localhost:8080/",
          "height": 33
        },
        "outputId": "7884255d-6aaa-4e51-ddf9-d983da5e08e8"
      },
      "source": [
        "#9.isalpha()\n",
        "\n",
        "txt = \"World12\"\n",
        "\n",
        "x = txt.isalpha()\n",
        "\n",
        "print(x)"
      ],
      "execution_count": 13,
      "outputs": [
        {
          "output_type": "stream",
          "text": [
            "False\n"
          ],
          "name": "stdout"
        }
      ]
    },
    {
      "cell_type": "code",
      "metadata": {
        "id": "F3v2n3SArKCW",
        "colab_type": "code",
        "colab": {
          "base_uri": "https://localhost:8080/",
          "height": 33
        },
        "outputId": "7c282b9e-efc0-4b60-849d-483d19d70832"
      },
      "source": [
        "\n",
        "txt = \"World\"\n",
        "\n",
        "x = txt.isalpha()\n",
        "\n",
        "print(x)"
      ],
      "execution_count": 14,
      "outputs": [
        {
          "output_type": "stream",
          "text": [
            "True\n"
          ],
          "name": "stdout"
        }
      ]
    },
    {
      "cell_type": "code",
      "metadata": {
        "id": "ZwDhiDAHrMab",
        "colab_type": "code",
        "colab": {
          "base_uri": "https://localhost:8080/",
          "height": 33
        },
        "outputId": "8f933a43-51d2-442d-e405-e403775ee62e"
      },
      "source": [
        "#10.isupper()\n",
        "\n",
        "txt=\"BALAJI\"\n",
        "\n",
        "x=txt.isupper()\n",
        "\n",
        "print(x)"
      ],
      "execution_count": 15,
      "outputs": [
        {
          "output_type": "stream",
          "text": [
            "True\n"
          ],
          "name": "stdout"
        }
      ]
    },
    {
      "cell_type": "code",
      "metadata": {
        "id": "g3I5CtFgrQmX",
        "colab_type": "code",
        "colab": {
          "base_uri": "https://localhost:8080/",
          "height": 33
        },
        "outputId": "4f100aac-5e72-4b2c-f63d-9e128ce0559d"
      },
      "source": [
        "#11. islower()\n",
        "\n",
        "x=txt.islower()\n",
        "\n",
        "print(x)"
      ],
      "execution_count": 16,
      "outputs": [
        {
          "output_type": "stream",
          "text": [
            "False\n"
          ],
          "name": "stdout"
        }
      ]
    },
    {
      "cell_type": "code",
      "metadata": {
        "id": "uVL1D3hvrZ73",
        "colab_type": "code",
        "colab": {
          "base_uri": "https://localhost:8080/",
          "height": 33
        },
        "outputId": "7643a669-bb49-4b92-9c1f-1ab5701bce9c"
      },
      "source": [
        "\n",
        "txt = \"     balaji     \"\n",
        "\n",
        "x = txt.strip()\n",
        "\n",
        "print(x, \"is good at coding\")"
      ],
      "execution_count": 17,
      "outputs": [
        {
          "output_type": "stream",
          "text": [
            "balaji is good at coding\n"
          ],
          "name": "stdout"
        }
      ]
    },
    {
      "cell_type": "code",
      "metadata": {
        "id": "Mm8Cg9V4rfVn",
        "colab_type": "code",
        "colab": {
          "base_uri": "https://localhost:8080/",
          "height": 33
        },
        "outputId": "00ba3ef2-b45a-45e1-cbaf-10926872cfe8"
      },
      "source": [
        "#13.title()\n",
        "\n",
        "txt = \"Welcome to my world\"\n",
        "\n",
        "x = txt.title()\n",
        "\n",
        "print(x)"
      ],
      "execution_count": 18,
      "outputs": [
        {
          "output_type": "stream",
          "text": [
            "Welcome To My World\n"
          ],
          "name": "stdout"
        }
      ]
    },
    {
      "cell_type": "code",
      "metadata": {
        "id": "GpM4kKrKrifa",
        "colab_type": "code",
        "colab": {
          "base_uri": "https://localhost:8080/",
          "height": 33
        },
        "outputId": "243f8292-62f5-450d-e9cc-c43420adba1b"
      },
      "source": [
        "#14. zfill() - Fill the string with zeros until it is 10 characters long:\n",
        "\n",
        "txt = \"rupa\"\n",
        "\n",
        "x = txt.zfill(10)\n",
        "\n",
        "print(x)"
      ],
      "execution_count": 19,
      "outputs": [
        {
          "output_type": "stream",
          "text": [
            "000000rupa\n"
          ],
          "name": "stdout"
        }
      ]
    },
    {
      "cell_type": "code",
      "metadata": {
        "id": "LhjT25vSrlpW",
        "colab_type": "code",
        "colab": {
          "base_uri": "https://localhost:8080/",
          "height": 33
        },
        "outputId": "318af09b-c448-4338-d704-241ffd81542b"
      },
      "source": [
        "#15. splitlines()\n",
        "\n",
        "txt = \"Thank you for the music\\nWelcome to the jungle\"\n",
        "\n",
        "x = txt.splitlines()\n",
        "\n",
        "print(x)"
      ],
      "execution_count": 20,
      "outputs": [
        {
          "output_type": "stream",
          "text": [
            "['Thank you for the music', 'Welcome to the jungle']\n"
          ],
          "name": "stdout"
        }
      ]
    },
    {
      "cell_type": "markdown",
      "metadata": {
        "id": "OEvfJ2dFrwD4",
        "colab_type": "text"
      },
      "source": [
        "3. Write a Python program to check if the given string is a Palindrome or Anagram or None of them. Display the message accordingly to the user."
      ]
    },
    {
      "cell_type": "code",
      "metadata": {
        "id": "a0idSdF1rpHm",
        "colab_type": "code",
        "colab": {
          "base_uri": "https://localhost:8080/",
          "height": 50
        },
        "outputId": "c30549bd-5008-41e5-b5ca-5b9e08a37bd0"
      },
      "source": [
        "string=input((\"Enter a string:\"))\n",
        "if(string==string[::-1]):\n",
        "      print(\"The string is a palindrome\")\n",
        "else:\n",
        "      print(\"Not a palindrome\")"
      ],
      "execution_count": 23,
      "outputs": [
        {
          "output_type": "stream",
          "text": [
            "Enter a string:madam\n",
            "The string is a palindrome\n"
          ],
          "name": "stdout"
        }
      ]
    },
    {
      "cell_type": "code",
      "metadata": {
        "id": "O9HcmRAzr0Yy",
        "colab_type": "code",
        "colab": {
          "base_uri": "https://localhost:8080/",
          "height": 67
        },
        "outputId": "5bd3ea6d-d904-4a24-a441-985619db4fd1"
      },
      "source": [
        "a=input(\"Enter string 1:\")\n",
        "\n",
        "b=input(\"Enter string 2:\")\n",
        "\n",
        "count=0\n",
        "\n",
        "for i in a:\n",
        "\n",
        "    for j in b:\n",
        "\n",
        "        if i==j:\n",
        "\n",
        "            count=count+1\n",
        "\n",
        "if count==len(a):\n",
        "    print(\"Strings are anagram of each other.\")\n",
        "\n",
        "else:\n",
        "    print(\"Strings are not anagram of each other.\")"
      ],
      "execution_count": 24,
      "outputs": [
        {
          "output_type": "stream",
          "text": [
            "Enter string 1:listen\n",
            "Enter string 2:silent\n",
            "Strings are anagram of each other.\n"
          ],
          "name": "stdout"
        }
      ]
    },
    {
      "cell_type": "markdown",
      "metadata": {
        "id": "Cw4CsguPsgqV",
        "colab_type": "text"
      },
      "source": [
        "4. Write a Python's user defined function that removes all the additional characters from the string and converts it finally to lower case using built-in lower(). eg: If the string is \"Dr. Darshan Ingle @AI-ML Trainer\", then the output be \"drdarshaningleaimltrainer"
      ]
    },
    {
      "cell_type": "code",
      "metadata": {
        "id": "6q4ODQ8LsSZ6",
        "colab_type": "code",
        "colab": {
          "base_uri": "https://localhost:8080/",
          "height": 35
        },
        "outputId": "4700e61e-ba27-41d7-a79b-372049322a88"
      },
      "source": [
        "string =  \"Dr. Darshan Ingle@AI-ML Trainer\"\n",
        "''.join(e for e in string if e.isalnum()).lower()"
      ],
      "execution_count": 26,
      "outputs": [
        {
          "output_type": "execute_result",
          "data": {
            "application/vnd.google.colaboratory.intrinsic+json": {
              "type": "string"
            },
            "text/plain": [
              "'drdarshaningleaimltrainer'"
            ]
          },
          "metadata": {
            "tags": []
          },
          "execution_count": 26
        }
      ]
    }
  ]
}