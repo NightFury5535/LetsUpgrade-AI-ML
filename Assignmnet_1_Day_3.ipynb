{
  "nbformat": 4,
  "nbformat_minor": 0,
  "metadata": {
    "colab": {
      "name": "Assignmnet 1 - Day 3.ipynb",
      "provenance": [],
      "collapsed_sections": [],
      "authorship_tag": "ABX9TyPX9FOZ6wJKVkthdpmhX+1Q",
      "include_colab_link": true
    },
    "kernelspec": {
      "name": "python3",
      "display_name": "Python 3"
    }
  },
  "cells": [
    {
      "cell_type": "markdown",
      "metadata": {
        "id": "view-in-github",
        "colab_type": "text"
      },
      "source": [
        "<a href=\"https://colab.research.google.com/github/NightFury5535/LetsUpgrade-AI-ML/blob/master/Assignmnet_1_Day_3.ipynb\" target=\"_parent\"><img src=\"https://colab.research.google.com/assets/colab-badge.svg\" alt=\"Open In Colab\"/></a>"
      ]
    },
    {
      "cell_type": "markdown",
      "metadata": {
        "id": "yEsOdj16mAPC",
        "colab_type": "text"
      },
      "source": [
        "### Assignmnet 1 - Day 3"
      ]
    },
    {
      "cell_type": "markdown",
      "metadata": {
        "id": "zUdy_qC7mfGs",
        "colab_type": "text"
      },
      "source": [
        "*1. Write a program to subtract two complex numbers in Python.*"
      ]
    },
    {
      "cell_type": "code",
      "metadata": {
        "id": "cSX8JhBomdp6",
        "colab_type": "code",
        "colab": {
          "base_uri": "https://localhost:8080/",
          "height": 34
        },
        "outputId": "86d79340-30c4-4bff-a41d-d1eb4a44e589"
      },
      "source": [
        "def subComplex(c1,c2):\n",
        "    return c1-c2\n",
        "c1 = complex(5, 3)\n",
        "c2 = complex(4, 6)\n",
        "sub = subComplex(c1,c2)\n",
        "print(\"The subtraction of two complex number is \", sub)"
      ],
      "execution_count": 2,
      "outputs": [
        {
          "output_type": "stream",
          "text": [
            "The subtraction of two complex number is  (1-3j)\n"
          ],
          "name": "stdout"
        }
      ]
    },
    {
      "cell_type": "markdown",
      "metadata": {
        "id": "3kw8KKIAo2Pd",
        "colab_type": "text"
      },
      "source": [
        "\n",
        "*2.Write a program to find the fourth root of a number.*"
      ]
    },
    {
      "cell_type": "code",
      "metadata": {
        "id": "eb9KKlCvoHRJ",
        "colab_type": "code",
        "colab": {
          "base_uri": "https://localhost:8080/",
          "height": 34
        },
        "outputId": "e3eaa037-7a62-4806-9260-21cae8fe3ba3"
      },
      "source": [
        "import math\n",
        "\n",
        "def fourth_root(num, root):\n",
        "    output = num**(1/root)\n",
        "    return output\n",
        "root = fourth_root(16, 4)\n",
        "print(\"The output is\", root)"
      ],
      "execution_count": 4,
      "outputs": [
        {
          "output_type": "stream",
          "text": [
            "The output is 2.0\n"
          ],
          "name": "stdout"
        }
      ]
    },
    {
      "cell_type": "markdown",
      "metadata": {
        "id": "ZYYd6ivPqCqH",
        "colab_type": "text"
      },
      "source": [
        "*3.Write a program to swap two numbers in Python with the help of a temporary variable.*"
      ]
    },
    {
      "cell_type": "code",
      "metadata": {
        "id": "pTnxJYvzpr8K",
        "colab_type": "code",
        "colab": {
          "base_uri": "https://localhost:8080/",
          "height": 50
        },
        "outputId": "50e1a3a8-ae4d-4601-cd4c-99f80a8ab6d2"
      },
      "source": [
        "a=5\n",
        "b=10\n",
        "temp=a\n",
        "a=b\n",
        "b=temp\n",
        "print('The value of a after swapping: {}'.format(a))\n",
        "print('The value of b after swapping: {}'.format(b))"
      ],
      "execution_count": 5,
      "outputs": [
        {
          "output_type": "stream",
          "text": [
            "The value of a after swapping: 10\n",
            "The value of b after swapping: 5\n"
          ],
          "name": "stdout"
        }
      ]
    },
    {
      "cell_type": "markdown",
      "metadata": {
        "id": "G8qXCqcfqtzm",
        "colab_type": "text"
      },
      "source": [
        "\n",
        "4.Write a program to swap two numbers in Python without using a temporary variable"
      ]
    },
    {
      "cell_type": "code",
      "metadata": {
        "id": "7ABtRDSGqbJp",
        "colab_type": "code",
        "colab": {
          "base_uri": "https://localhost:8080/",
          "height": 34
        },
        "outputId": "8aee4f97-8250-4a2e-ba34-ebe452ee7c35"
      },
      "source": [
        "a=15\n",
        "b=10\n",
        "a = a+b\n",
        "b = a-b\n",
        "a = a-b\n",
        "print(\"After Swapping: a =\", a, \" b =\", b);"
      ],
      "execution_count": 6,
      "outputs": [
        {
          "output_type": "stream",
          "text": [
            "After Swapping: a = 10  b = 15\n"
          ],
          "name": "stdout"
        }
      ]
    },
    {
      "cell_type": "markdown",
      "metadata": {
        "id": "_l1fzm5Wrk5B",
        "colab_type": "text"
      },
      "source": [
        "4.Write a program to convert fahrenheit to kelvin and celsius."
      ]
    },
    {
      "cell_type": "code",
      "metadata": {
        "id": "fMZyeXjdrBkm",
        "colab_type": "code",
        "colab": {
          "base_uri": "https://localhost:8080/",
          "height": 50
        },
        "outputId": "916f2924-f02a-4a8d-ee0d-ea7009a0813c"
      },
      "source": [
        "def Fahrenheit_to_Kelvin(F):\n",
        "    Kelvin = 273.15 + ((F - 32.0) * 5/9)\n",
        "    return Kelvin\n",
        "\n",
        "print(\"Temperature in Kelvin ( K ) = {:.3f}\".format(Fahrenheit_to_Kelvin( 100 )))\n",
        "\n",
        "def Fahrenheit_to_Celsius(F):\n",
        "    Celsius =(F - 32.0) * 5/9\n",
        "    return Celsius\n",
        "\n",
        "print(\"Temperature in Celsius ( C ) = {:.3f}\".format(Fahrenheit_to_Celsius( 100 )))"
      ],
      "execution_count": 7,
      "outputs": [
        {
          "output_type": "stream",
          "text": [
            "Temperature in Kelvin ( K ) = 310.928\n",
            "Temperature in Celsius ( C ) = 37.778\n"
          ],
          "name": "stdout"
        }
      ]
    },
    {
      "cell_type": "markdown",
      "metadata": {
        "id": "OmiNc2K1sfkR",
        "colab_type": "text"
      },
      "source": [
        "\n",
        "6.Write a program to demonstrate all the available data types in Python. Hint: Use type() function."
      ]
    },
    {
      "cell_type": "markdown",
      "metadata": {
        "id": "g9OsCoOvsnHw",
        "colab_type": "text"
      },
      "source": [
        "## String:"
      ]
    },
    {
      "cell_type": "markdown",
      "metadata": {
        "id": "VHlRd9Trs8I_",
        "colab_type": "text"
      },
      "source": [
        "*It is a sequence of character enclosed with in \"\" or ''.*"
      ]
    },
    {
      "cell_type": "code",
      "metadata": {
        "id": "kANJE3_jr4Mb",
        "colab_type": "code",
        "colab": {
          "base_uri": "https://localhost:8080/",
          "height": 67
        },
        "outputId": "fbe666a5-485f-4b1f-8fc5-1184e001e56f"
      },
      "source": [
        "example = \"I am new to python.\"\n",
        "print(example)\n",
        "print(\"length of string \" + str(len(example)))\n",
        "type(example)"
      ],
      "execution_count": 9,
      "outputs": [
        {
          "output_type": "stream",
          "text": [
            "I am new to python.\n",
            "length of string 19\n"
          ],
          "name": "stdout"
        },
        {
          "output_type": "execute_result",
          "data": {
            "text/plain": [
              "str"
            ]
          },
          "metadata": {
            "tags": []
          },
          "execution_count": 9
        }
      ]
    },
    {
      "cell_type": "markdown",
      "metadata": {
        "id": "2WGSEciUtcJ7",
        "colab_type": "text"
      },
      "source": [
        "### Int"
      ]
    },
    {
      "cell_type": "markdown",
      "metadata": {
        "id": "JV7Xs6v_tn3G",
        "colab_type": "text"
      },
      "source": [
        "It is a whole number."
      ]
    },
    {
      "cell_type": "code",
      "metadata": {
        "id": "CW5z59vctV_8",
        "colab_type": "code",
        "colab": {
          "base_uri": "https://localhost:8080/",
          "height": 84
        },
        "outputId": "ad2776c5-9b6e-4f0c-94da-7ea8a6109f86"
      },
      "source": [
        "a = 5\n",
        "b = 6\n",
        "print(\"Sum of a and b is \" + str(a + b))\n",
        "print(\"Sub of a and b is \" + str(a - b))\n",
        "print(\"Mul of a and b is \" + str(a * b))\n",
        "print(\"Div of a and b is \" + str(a / b))"
      ],
      "execution_count": 10,
      "outputs": [
        {
          "output_type": "stream",
          "text": [
            "Sum of a and b is 11\n",
            "Sub of a and b is -1\n",
            "Mul of a and b is 30\n",
            "Div of a and b is 0.8333333333333334\n"
          ],
          "name": "stdout"
        }
      ]
    },
    {
      "cell_type": "markdown",
      "metadata": {
        "id": "C1yNKFfCtyCA",
        "colab_type": "text"
      },
      "source": [
        "### Float"
      ]
    },
    {
      "cell_type": "markdown",
      "metadata": {
        "id": "0s6-XJCvulJc",
        "colab_type": "text"
      },
      "source": [
        "It is number with a decimal part."
      ]
    },
    {
      "cell_type": "code",
      "metadata": {
        "id": "6r8IwDvttuUX",
        "colab_type": "code",
        "colab": {
          "base_uri": "https://localhost:8080/",
          "height": 101
        },
        "outputId": "066e5038-cc76-41c0-ba19-b393b68a5f76"
      },
      "source": [
        "a = 5.5\n",
        "b = 7.3\n",
        "print(\"Sum of a and b is \" + str(a + b))\n",
        "print(\"Sub of a and b is \" + str(a - b))\n",
        "print(\"Mul of a and b is \" + str(a * b))\n",
        "print(\"Div of a and b is \" + str(a / b))\n",
        "type(b)"
      ],
      "execution_count": 11,
      "outputs": [
        {
          "output_type": "stream",
          "text": [
            "Sum of a and b is 12.8\n",
            "Sub of a and b is -1.7999999999999998\n",
            "Mul of a and b is 40.15\n",
            "Div of a and b is 0.7534246575342466\n"
          ],
          "name": "stdout"
        },
        {
          "output_type": "execute_result",
          "data": {
            "text/plain": [
              "float"
            ]
          },
          "metadata": {
            "tags": []
          },
          "execution_count": 11
        }
      ]
    },
    {
      "cell_type": "markdown",
      "metadata": {
        "id": "idkE8QzGutmu",
        "colab_type": "text"
      },
      "source": [
        "### Boolean"
      ]
    },
    {
      "cell_type": "markdown",
      "metadata": {
        "id": "vVg4rVzluwEh",
        "colab_type": "text"
      },
      "source": [
        "It is True or false only."
      ]
    },
    {
      "cell_type": "code",
      "metadata": {
        "id": "DaqHAJ-5upXY",
        "colab_type": "code",
        "colab": {
          "base_uri": "https://localhost:8080/",
          "height": 67
        },
        "outputId": "cb78af17-31c7-4222-e0c1-7fb91d53ee5e"
      },
      "source": [
        "a = True\n",
        "b = False\n",
        "print(\"a value is \" + str(a))\n",
        "print(\"b value is \" + str(b))\n",
        "type(a)"
      ],
      "execution_count": 12,
      "outputs": [
        {
          "output_type": "stream",
          "text": [
            "a value is True\n",
            "b value is False\n"
          ],
          "name": "stdout"
        },
        {
          "output_type": "execute_result",
          "data": {
            "text/plain": [
              "bool"
            ]
          },
          "metadata": {
            "tags": []
          },
          "execution_count": 12
        }
      ]
    },
    {
      "cell_type": "markdown",
      "metadata": {
        "id": "L0jKQ_6Mu7o1",
        "colab_type": "text"
      },
      "source": [
        "\n",
        "### List"
      ]
    },
    {
      "cell_type": "markdown",
      "metadata": {
        "id": "OM2ipTpku_g2",
        "colab_type": "text"
      },
      "source": [
        "It is an ordered sequence of objects. It is mutable. It is enclosed with in [].\n",
        "\n",
        "\n",
        "**Functions:**\n",
        "\n",
        "append(): It is used to add an object to an existing list. Elements will be added at the end of the list.\n",
        "\n",
        "clear(): It is used to remove all the elements from the list.\n",
        "\n",
        "copy(): It is used to copy the existing list to another variable. An changes to the original list will not affect the copied list.\n",
        "\n",
        "count(): It is used to find the count of specific element in a list.\n",
        "\n",
        "extend(): It is used to extend an existing list or iterable to the end of the list.\n",
        "\n",
        "index(): It is used to return the index of the first element of the specified value.\n",
        "\n",
        "insert(): It is used to add an element at a specified position.\n",
        "\n",
        "pop(): It is used to remove the element at a specified position or remove the last element of the list if position is not mentioned.\n",
        "\n",
        "remove(): It is used to remove the first occuring element of the specified value in the list.\n",
        "\n",
        "reverse(): It is used to reverse the list.\n",
        "\n",
        "sort(): it is used to sort the list. By default the list is sorted ascending."
      ]
    },
    {
      "cell_type": "code",
      "metadata": {
        "id": "8HdtpZ2Vu2B4",
        "colab_type": "code",
        "colab": {
          "base_uri": "https://localhost:8080/",
          "height": 67
        },
        "outputId": "b2f91231-2737-4bf6-fa59-f258c6bb4fac"
      },
      "source": [
        "lst = [\"hello\",5,2.8,True]\n",
        "# List append() functiion:\n",
        "lst.append(False)\n",
        "lst.append([\"Appending to lst\", True])\n",
        "print(\"lst after appending the data:\")\n",
        "print(lst)\n",
        "\n",
        "type(lst1)"
      ],
      "execution_count": 14,
      "outputs": [
        {
          "output_type": "stream",
          "text": [
            "lst after appending the data:\n",
            "['hello', 5, 2.8, True, False, ['Appending to lst', True]]\n"
          ],
          "name": "stdout"
        },
        {
          "output_type": "execute_result",
          "data": {
            "text/plain": [
              "list"
            ]
          },
          "metadata": {
            "tags": []
          },
          "execution_count": 14
        }
      ]
    },
    {
      "cell_type": "markdown",
      "metadata": {
        "id": "NInoUo81vsrc",
        "colab_type": "text"
      },
      "source": [
        "### Dictionary"
      ]
    },
    {
      "cell_type": "markdown",
      "metadata": {
        "id": "dTarFLElvwj-",
        "colab_type": "text"
      },
      "source": [
        "It is an unordered collection. It is mutable. It is enclosed with in {}. It is expressed in key value pair.\n",
        "\n",
        "**Functions:**\n",
        "\n",
        " clear(): It is used to remove all the elements from the dictionary.\n",
        "\n",
        "copy(): It is used to copy the existing dictionary to another variable. An changes to the original dictionary will not affect the copied dictionary.\n",
        "\n",
        "fromkeys(): It is used to create dictionary with the keys and values pased as an argument to function.\n",
        "\n",
        "get(): It is used to get the value of the specified key which is the parameter to the function.\n",
        "\n",
        "items(): It is used to return the key value pair of dictionary as tuples in a list.\n",
        "\n",
        "keys(): It is used to get the list of all the keys in the dictionary.\n",
        "\n",
        "pop(): It is used to remove the key value pair from the dictionary with the specified key.\n",
        "\n",
        "popitem(): It is used to remove the last inserted key value pair from the dictionary.\n",
        "\n",
        "setdefault(): It is used to set default values to specific keys.\n",
        "\n",
        "update(): It is used to update the dictionary with new key value pair.\n",
        "\n",
        "values(): It is used to get the list of all the values in the dictionary."
      ]
    },
    {
      "cell_type": "code",
      "metadata": {
        "id": "JfAWafyxvhq1",
        "colab_type": "code",
        "colab": {
          "base_uri": "https://localhost:8080/",
          "height": 202
        },
        "outputId": "bb80b244-c3eb-434f-ca19-2e1be40b7764"
      },
      "source": [
        "# Dictionary copy() and clear() functions:\n",
        "dst = {\"name\": \"Rupa\", \"age\": 25, \"gender\": \"Female\"}\n",
        "print(\"Printing the original dst:\")\n",
        "print(dst)\n",
        "print(\"\\n\")\n",
        "\n",
        "dst1 = dst.copy()\n",
        "print(\"Printing the copied dst1:\")\n",
        "print(dst1)\n",
        "print(\"\\n\")\n",
        "\n",
        "dst1.clear()\n",
        "print(\"Printing the cleared dst1:\")\n",
        "print(dst1)\n",
        "type(dst1) "
      ],
      "execution_count": 15,
      "outputs": [
        {
          "output_type": "stream",
          "text": [
            "Printing the original dst:\n",
            "{'name': 'Rupa', 'age': 25, 'gender': 'Female'}\n",
            "\n",
            "\n",
            "Printing the copied dst1:\n",
            "{'name': 'Rupa', 'age': 25, 'gender': 'Female'}\n",
            "\n",
            "\n",
            "Printing the cleared dst1:\n",
            "{}\n"
          ],
          "name": "stdout"
        },
        {
          "output_type": "execute_result",
          "data": {
            "text/plain": [
              "dict"
            ]
          },
          "metadata": {
            "tags": []
          },
          "execution_count": 15
        }
      ]
    },
    {
      "cell_type": "markdown",
      "metadata": {
        "id": "rikWhDPdv9Ea",
        "colab_type": "text"
      },
      "source": [
        "### Tuple"
      ]
    },
    {
      "cell_type": "markdown",
      "metadata": {
        "id": "DgtbBMImxxVa",
        "colab_type": "text"
      },
      "source": [
        "*Tuple is a collection which is ordered. Tuple is immutable. Tuple is enclosed with in ().*"
      ]
    },
    {
      "cell_type": "markdown",
      "metadata": {
        "id": "x0VvHWumyr0i",
        "colab_type": "text"
      },
      "source": [
        "**Functions:**\n",
        "\n",
        "count(): It is used to count the number of elements in an tuple which is passed as an argument. \n",
        "\n",
        "index(): Is is used to find an element and return it's index."
      ]
    },
    {
      "cell_type": "code",
      "metadata": {
        "id": "vc0gOx6Kv4zA",
        "colab_type": "code",
        "colab": {
          "base_uri": "https://localhost:8080/",
          "height": 118
        },
        "outputId": "8abe8b8b-3fbb-4112-bca1-e28fc1ef1acd"
      },
      "source": [
        "tpl = (1,6,4,8,3,5,5)\n",
        "\n",
        "print(\"Printing the count of tpl:\")\n",
        "print(tpl.count(5))\n",
        "print(\"\\n\")\n",
        "\n",
        "print(\"Printing the index of 8:\")\n",
        "print(tpl.index(8))"
      ],
      "execution_count": 16,
      "outputs": [
        {
          "output_type": "stream",
          "text": [
            "Printing the count of tpl:\n",
            "2\n",
            "\n",
            "\n",
            "Printing the index of 8:\n",
            "3\n"
          ],
          "name": "stdout"
        }
      ]
    },
    {
      "cell_type": "markdown",
      "metadata": {
        "id": "7kgoNItPzAX-",
        "colab_type": "text"
      },
      "source": [
        "### Set"
      ]
    },
    {
      "cell_type": "markdown",
      "metadata": {
        "id": "0XWzKiyuzC-A",
        "colab_type": "text"
      },
      "source": [
        "**Functions:**\n",
        "\n",
        "add(): It is used to add an element to a set. \n",
        "\n",
        "clear(): It is used to clear the entier set. \n",
        "\n",
        "copy(): It is used to copy the existing set to another variable. An changes to the original dictionary will not affect the copied set. \n",
        "\n",
        "difference(): It is used to get a set containing only the elements in the first set which are not in the second set.\n",
        "\n",
        "difference_update(): It is used to update the first set with the difference of two sets. \n",
        " \n",
        "discard(): It is used to remove the specified element from the set. \n",
        " \n",
        "intersection(): It is used to get the similar elements from 2 or more sets. \n",
        " \n",
        "intersection_update(): It is used to update the first set with result of intersection function.\n",
        "\n",
        "isdisjoint(): It is used to check two set are disjoint sets.\n",
        "\n",
        "issubset(): It is used to check one set is sub set of another set.\n",
        "\n",
        "issuperset(): It is used to check one set is super set of another set.\n",
        "\n",
        "pop(): It is used to remove a randow element from the set.\n",
        "\n",
        "remove(): It is used to remove a specific element from the set. If the element is not present it will through an error.\n",
        "\n",
        "symmetric_difference(): It is used to get a set containing elements from both the set which are not present in both sets. \n",
        "\n",
        "symmetric_difference_update(): It is used to update the original set with the result of symmetric_difference. \n",
        "\n",
        "union(): It is used to combine two or more sets without repeating of elements. \n",
        "\n",
        "update(): It is used to update a set at the same time it perform the union function also."
      ]
    },
    {
      "cell_type": "code",
      "metadata": {
        "id": "AedKeXDPy1Fz",
        "colab_type": "code",
        "colab": {
          "base_uri": "https://localhost:8080/",
          "height": 185
        },
        "outputId": "bdac7592-716c-4cb5-fe13-c87722c6a7f7"
      },
      "source": [
        "a = {1,2,3,4,5}\n",
        "b = {3,4,5,6,7,8}\n",
        "\n",
        "print(\"Printing set a:\")\n",
        "print(a)\n",
        "print(\"\\n\")\n",
        "\n",
        "print(\"Printing set b:\")\n",
        "print(b)\n",
        "print(\"\\n\")\n",
        "\n",
        "print(\"Printing the set a with element 6 added to it:\")\n",
        "a.add(6)\n",
        "print(a)"
      ],
      "execution_count": 17,
      "outputs": [
        {
          "output_type": "stream",
          "text": [
            "Printing set a:\n",
            "{1, 2, 3, 4, 5}\n",
            "\n",
            "\n",
            "Printing set b:\n",
            "{3, 4, 5, 6, 7, 8}\n",
            "\n",
            "\n",
            "Printing the set a with element 6 added to it:\n",
            "{1, 2, 3, 4, 5, 6}\n"
          ],
          "name": "stdout"
        }
      ]
    },
    {
      "cell_type": "markdown",
      "metadata": {
        "id": "_Qd09vd7zlIo",
        "colab_type": "text"
      },
      "source": [
        "7.Create a Markdown cell in jupyter and list the steps discussed in the session by Dr. Darshan Ingle sir to create Github profile and upload Githubs Assignment link."
      ]
    },
    {
      "cell_type": "markdown",
      "metadata": {
        "id": "-OtDZDb0zpqA",
        "colab_type": "text"
      },
      "source": [
        "step 1: Go to github.com and sign up using gmail account (If you were not signed up.\n",
        "\n",
        "step 2: Create folder for assignment in your local machine.\n",
        "\n",
        "step 3: In github site, click \"New\" and then Create a new repository by giving the Repository name as \"LetsUpgrade AI-ML\"\n",
        "\n",
        "step 4: Description would be \"Assignments\" and then visibility sould be \"PUBLIC\"\n",
        "\n",
        "step 5: Now, click \"Create a new repository\" and then click \"uploade existing file\"\n",
        "\n",
        "step 6: You can drag and drop the files or click \"Choose your files\"\n",
        "\n",
        "step 7: Now upload your assignment files to your Github repository."
      ]
    }
  ]
}